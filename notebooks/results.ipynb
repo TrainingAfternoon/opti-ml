{
 "cells": [
  {
   "cell_type": "code",
   "execution_count": 1,
   "id": "296c6f13",
   "metadata": {},
   "outputs": [],
   "source": [
    "import os\n",
    "import re\n",
    "import numpy as np\n",
    "import pandas as pd"
   ]
  },
  {
   "cell_type": "code",
   "execution_count": 2,
   "id": "ba3ad154",
   "metadata": {},
   "outputs": [],
   "source": [
    "data_dir = 'benchmarking-results'"
   ]
  },
  {
   "cell_type": "code",
   "execution_count": 3,
   "id": "538c118d",
   "metadata": {},
   "outputs": [
    {
     "data": {
      "text/plain": [
       "['base-clang-cBench-benchmarks.log',\n",
       " 'test-policy-cpp-perf-benchmarks.log',\n",
       " 'test-policy-cBench-benchmarks.log',\n",
       " 'old-cpp-perf-benchmarks.log',\n",
       " 'base-clang-cpp-perf-benchmarks.log',\n",
       " 'mlgo-cBench-benchmarks.log',\n",
       " 'mlgo-cpp-perf-benchmarks.log',\n",
       " 'old-cBench-benchmarks.log',\n",
       " 'policy-2-cpp-perf-benchmarks.log',\n",
       " 'mlgo-2-cpp-perf-benchmarks.log']"
      ]
     },
     "execution_count": 3,
     "metadata": {},
     "output_type": "execute_result"
    }
   ],
   "source": [
    "os.listdir(data_dir)"
   ]
  },
  {
   "cell_type": "code",
   "execution_count": 4,
   "id": "18aa8e4f",
   "metadata": {},
   "outputs": [],
   "source": [
    "prefixes = [\n",
    "#     'base-clang',\n",
    "#     'test-policy',\n",
    "#     'mlgo'\n",
    "    'base-clang',\n",
    "    'policy-2',\n",
    "    'mlgo-2'\n",
    "]\n",
    "\n",
    "labels = [\n",
    "    'base',\n",
    "    'policy',\n",
    "    'mlgo'\n",
    "]\n",
    "\n",
    "benchmarks = [\n",
    "    'cpp-perf-benchmarks',\n",
    "#     'cBench-benchmarks'\n",
    "]"
   ]
  },
  {
   "cell_type": "code",
   "execution_count": 5,
   "id": "40005403",
   "metadata": {},
   "outputs": [],
   "source": [
    "def calc_adjusted_mean(values):\n",
    "    min_val = min(values)\n",
    "    max_val = max(values)\n",
    "    \n",
    "    return (sum(values) - (max_val + min_val)) / 3\n",
    "\n",
    "def parse_lines(lines):\n",
    "    results = {}\n",
    "\n",
    "    key = None\n",
    "    for line in lines:\n",
    "        if '##' in line:\n",
    "            continue\n",
    "        elif 'UTC' in line:\n",
    "            continue\n",
    "        elif key is not None and 'real' in line and 'm' in line:\n",
    "            if key not in results:\n",
    "                results[key] = []\n",
    "            match = re.search(r'(\\d+)m?(\\d+(\\.\\d+)?)', line)\n",
    "            if match:\n",
    "                groups = match.groups()\n",
    "                minutes = float(groups[0])\n",
    "                seconds = float(groups[1])\n",
    "                results[key].append((minutes * 60) + seconds)\n",
    "        elif len(line) > 0 and 'real' not in line and 'user' not in line and 'sys' not in line:\n",
    "            #print('updating key ->', key)\n",
    "            key = line\n",
    "    \n",
    "    results_adj = {\n",
    "        \"file\": [],\n",
    "        \"mean_runtime\": [],\n",
    "        \"variance\": [],\n",
    "        \"raw_measurements\": []\n",
    "    }\n",
    "    for file in results:\n",
    "        values = results[file]\n",
    "        mean = calc_adjusted_mean(values)\n",
    "        var = np.var(values)\n",
    "        \n",
    "        results_adj[\"file\"].append(file)\n",
    "        results_adj[\"mean_runtime\"].append(mean)\n",
    "        results_adj[\"variance\"].append(var)\n",
    "        results_adj[\"raw_measurements\"].append(values)\n",
    "    \n",
    "    return pd.DataFrame.from_dict(results_adj)"
   ]
  },
  {
   "cell_type": "code",
   "execution_count": 6,
   "id": "c395055b",
   "metadata": {},
   "outputs": [],
   "source": [
    "prefix = prefixes[0]\n",
    "benchmark = benchmarks[0]\n",
    "\n",
    "lines = []\n",
    "with open(os.path.join(data_dir, prefix+'-'+benchmark+'.log'), 'r') as datafile:\n",
    "    for line in datafile:\n",
    "        lines.append(line.replace('\\t', ' ').replace('\\n', ''))"
   ]
  },
  {
   "cell_type": "code",
   "execution_count": 7,
   "id": "fe4e56d3",
   "metadata": {},
   "outputs": [
    {
     "data": {
      "text/html": [
       "<div>\n",
       "<style scoped>\n",
       "    .dataframe tbody tr th:only-of-type {\n",
       "        vertical-align: middle;\n",
       "    }\n",
       "\n",
       "    .dataframe tbody tr th {\n",
       "        vertical-align: top;\n",
       "    }\n",
       "\n",
       "    .dataframe thead th {\n",
       "        text-align: right;\n",
       "    }\n",
       "</style>\n",
       "<table border=\"1\" class=\"dataframe\">\n",
       "  <thead>\n",
       "    <tr style=\"text-align: right;\">\n",
       "      <th></th>\n",
       "      <th>file</th>\n",
       "      <th>mean_runtime</th>\n",
       "      <th>variance</th>\n",
       "      <th>raw_measurements</th>\n",
       "    </tr>\n",
       "  </thead>\n",
       "  <tbody>\n",
       "    <tr>\n",
       "      <th>0</th>\n",
       "      <td>loop removal</td>\n",
       "      <td>10.999000</td>\n",
       "      <td>0.000991</td>\n",
       "      <td>[10.969, 10.972, 11.054, 11.007, 11.018]</td>\n",
       "    </tr>\n",
       "    <tr>\n",
       "      <th>1</th>\n",
       "      <td>locales</td>\n",
       "      <td>106.503000</td>\n",
       "      <td>7.966743</td>\n",
       "      <td>[106.82300000000001, 113.432, 106.387, 106.299...</td>\n",
       "    </tr>\n",
       "    <tr>\n",
       "      <th>2</th>\n",
       "      <td>rotate bits</td>\n",
       "      <td>122.935667</td>\n",
       "      <td>0.010828</td>\n",
       "      <td>[122.879, 123.161, 122.997, 122.915, 122.895]</td>\n",
       "    </tr>\n",
       "    <tr>\n",
       "      <th>3</th>\n",
       "      <td>scalar replacement structs</td>\n",
       "      <td>95.887333</td>\n",
       "      <td>0.014584</td>\n",
       "      <td>[95.813, 96.024, 96.092, 95.825, 95.809]</td>\n",
       "    </tr>\n",
       "  </tbody>\n",
       "</table>\n",
       "</div>"
      ],
      "text/plain": [
       "                         file  mean_runtime  variance  \\\n",
       "0                loop removal     10.999000  0.000991   \n",
       "1                     locales    106.503000  7.966743   \n",
       "2                 rotate bits    122.935667  0.010828   \n",
       "3  scalar replacement structs     95.887333  0.014584   \n",
       "\n",
       "                                    raw_measurements  \n",
       "0           [10.969, 10.972, 11.054, 11.007, 11.018]  \n",
       "1  [106.82300000000001, 113.432, 106.387, 106.299...  \n",
       "2      [122.879, 123.161, 122.997, 122.915, 122.895]  \n",
       "3           [95.813, 96.024, 96.092, 95.825, 95.809]  "
      ]
     },
     "execution_count": 7,
     "metadata": {},
     "output_type": "execute_result"
    }
   ],
   "source": [
    "parse_lines(lines).head()"
   ]
  },
  {
   "cell_type": "code",
   "execution_count": 9,
   "id": "62e7910f",
   "metadata": {},
   "outputs": [],
   "source": [
    "# prefix = prefixes[0]\n",
    "# benchmark = benchmarks[1]\n",
    "\n",
    "# lines = []\n",
    "# with open(os.path.join(data_dir, prefix+'-'+benchmark+'.log'), 'r') as datafile:\n",
    "#     for line in datafile:\n",
    "#         lines.append(line.replace('\\t', ' ').replace('\\n', ''))"
   ]
  },
  {
   "cell_type": "code",
   "execution_count": 10,
   "id": "5d460708",
   "metadata": {},
   "outputs": [],
   "source": [
    "# parse_lines(lines).head()"
   ]
  },
  {
   "cell_type": "code",
   "execution_count": 11,
   "id": "106047d9",
   "metadata": {},
   "outputs": [],
   "source": [
    "from itertools import product"
   ]
  },
  {
   "cell_type": "code",
   "execution_count": 12,
   "id": "54b088f8",
   "metadata": {},
   "outputs": [
    {
     "name": "stdout",
     "output_type": "stream",
     "text": [
      "benchmarking-results/base-clang-cpp-perf-benchmarks.log\n",
      "benchmarking-results/policy-2-cpp-perf-benchmarks.log\n",
      "benchmarking-results/mlgo-2-cpp-perf-benchmarks.log\n"
     ]
    },
    {
     "data": {
      "text/html": [
       "<div>\n",
       "<style scoped>\n",
       "    .dataframe tbody tr th:only-of-type {\n",
       "        vertical-align: middle;\n",
       "    }\n",
       "\n",
       "    .dataframe tbody tr th {\n",
       "        vertical-align: top;\n",
       "    }\n",
       "\n",
       "    .dataframe thead th {\n",
       "        text-align: right;\n",
       "    }\n",
       "</style>\n",
       "<table border=\"1\" class=\"dataframe\">\n",
       "  <thead>\n",
       "    <tr style=\"text-align: right;\">\n",
       "      <th></th>\n",
       "      <th>file</th>\n",
       "      <th>mean_runtime</th>\n",
       "      <th>variance</th>\n",
       "      <th>raw_measurements</th>\n",
       "      <th>set</th>\n",
       "      <th>agent</th>\n",
       "    </tr>\n",
       "  </thead>\n",
       "  <tbody>\n",
       "    <tr>\n",
       "      <th>0</th>\n",
       "      <td>loop removal</td>\n",
       "      <td>10.999000</td>\n",
       "      <td>0.000991</td>\n",
       "      <td>[10.969, 10.972, 11.054, 11.007, 11.018]</td>\n",
       "      <td>cpp-perf</td>\n",
       "      <td>base</td>\n",
       "    </tr>\n",
       "    <tr>\n",
       "      <th>1</th>\n",
       "      <td>locales</td>\n",
       "      <td>106.503000</td>\n",
       "      <td>7.966743</td>\n",
       "      <td>[106.82300000000001, 113.432, 106.387, 106.299...</td>\n",
       "      <td>cpp-perf</td>\n",
       "      <td>base</td>\n",
       "    </tr>\n",
       "    <tr>\n",
       "      <th>2</th>\n",
       "      <td>rotate bits</td>\n",
       "      <td>122.935667</td>\n",
       "      <td>0.010828</td>\n",
       "      <td>[122.879, 123.161, 122.997, 122.915, 122.895]</td>\n",
       "      <td>cpp-perf</td>\n",
       "      <td>base</td>\n",
       "    </tr>\n",
       "    <tr>\n",
       "      <th>3</th>\n",
       "      <td>scalar replacement structs</td>\n",
       "      <td>95.887333</td>\n",
       "      <td>0.014584</td>\n",
       "      <td>[95.813, 96.024, 96.092, 95.825, 95.809]</td>\n",
       "      <td>cpp-perf</td>\n",
       "      <td>base</td>\n",
       "    </tr>\n",
       "    <tr>\n",
       "      <th>4</th>\n",
       "      <td>loop removal</td>\n",
       "      <td>240.072000</td>\n",
       "      <td>0.000170</td>\n",
       "      <td>[240.082, 240.062, 240.054, 240.072, 240.09]</td>\n",
       "      <td>cpp-perf</td>\n",
       "      <td>policy</td>\n",
       "    </tr>\n",
       "  </tbody>\n",
       "</table>\n",
       "</div>"
      ],
      "text/plain": [
       "                         file  mean_runtime  variance  \\\n",
       "0                loop removal     10.999000  0.000991   \n",
       "1                     locales    106.503000  7.966743   \n",
       "2                 rotate bits    122.935667  0.010828   \n",
       "3  scalar replacement structs     95.887333  0.014584   \n",
       "4                loop removal    240.072000  0.000170   \n",
       "\n",
       "                                    raw_measurements       set   agent  \n",
       "0           [10.969, 10.972, 11.054, 11.007, 11.018]  cpp-perf    base  \n",
       "1  [106.82300000000001, 113.432, 106.387, 106.299...  cpp-perf    base  \n",
       "2      [122.879, 123.161, 122.997, 122.915, 122.895]  cpp-perf    base  \n",
       "3           [95.813, 96.024, 96.092, 95.825, 95.809]  cpp-perf    base  \n",
       "4       [240.082, 240.062, 240.054, 240.072, 240.09]  cpp-perf  policy  "
      ]
     },
     "execution_count": 12,
     "metadata": {},
     "output_type": "execute_result"
    }
   ],
   "source": [
    "df = pd.DataFrame(columns=[\n",
    "    'file',\n",
    "    'mean_runtime',\n",
    "    'variance'\n",
    "])\n",
    "for prefix, benchmark in product(prefixes, benchmarks):\n",
    "    filepath = os.path.join(data_dir, prefix+'-'+benchmark+'.log')\n",
    "    print(filepath)\n",
    "    \n",
    "    lines = []\n",
    "    with open(filepath, 'r') as datafile:\n",
    "        for line in datafile:\n",
    "            lines.append(line.replace('\\t', ' ').replace('\\n', ''))\n",
    "    \n",
    "    file_df = parse_lines(lines)\n",
    "    file_df['set'] = 'cpp-perf' if 'cpp-perf' in benchmark else 'cBench'\n",
    "    file_df['agent'] = 'base' if 'base' in prefix else 'policy' if 'policy' in prefix else 'mlgo'\n",
    "    \n",
    "    df = pd.concat((df, file_df), axis=0, ignore_index=True)\n",
    "df.head()"
   ]
  },
  {
   "cell_type": "code",
   "execution_count": 13,
   "id": "85f921c8",
   "metadata": {
    "scrolled": false
   },
   "outputs": [
    {
     "name": "stderr",
     "output_type": "stream",
     "text": [
      "/tmp/ipykernel_970203/760010953.py:6: FutureWarning: In future versions `DataFrame.to_latex` is expected to utilise the base implementation of `Styler.to_latex` for formatting and rendering. The arguments signature may therefore change. It is recommended instead to use `DataFrame.style.to_latex` which also contains additional functionality.\n",
      "  .to_latex()\n"
     ]
    },
    {
     "data": {
      "text/plain": [
       "'\\\\begin{tabular}{llrr}\\n\\\\toprule\\n                           &        &  mean\\\\_runtime &  variance \\\\\\\\\\nfile & agent &               &           \\\\\\\\\\n\\\\midrule\\nlocales & base &      106.5030 &    7.9667 \\\\\\\\\\n                           & mlgo &      104.1613 &    0.1510 \\\\\\\\\\n                           & policy &      104.3913 &    0.7208 \\\\\\\\\\nloop removal & base &       10.9990 &    0.0010 \\\\\\\\\\n                           & mlgo &      240.0443 &    0.0001 \\\\\\\\\\n                           & policy &      240.0720 &    0.0002 \\\\\\\\\\nrotate bits & base &      122.9357 &    0.0108 \\\\\\\\\\n                           & mlgo &      240.0523 &    0.0001 \\\\\\\\\\n                           & policy &      240.0767 &    0.0007 \\\\\\\\\\nscalar replacement structs & base &       95.8873 &    0.0146 \\\\\\\\\\n                           & mlgo &      240.0547 &    0.0002 \\\\\\\\\\n                           & policy &      240.0723 &    0.0001 \\\\\\\\\\n\\\\bottomrule\\n\\\\end{tabular}\\n'"
      ]
     },
     "execution_count": 13,
     "metadata": {},
     "output_type": "execute_result"
    }
   ],
   "source": [
    "df[df.set == 'cpp-perf'][df.file != 'machine']\\\n",
    "    .groupby(['file', 'agent'])\\\n",
    "    [['mean_runtime', 'variance']]\\\n",
    "    .last()\\\n",
    "    .apply(lambda x: round(x, 4))\\\n",
    "    .to_latex()"
   ]
  },
  {
   "cell_type": "code",
   "execution_count": null,
   "id": "c1c0d755",
   "metadata": {},
   "outputs": [],
   "source": [
    "mlgoperf_cbench_files = [\n",
    "    'automotive_bitcount',\n",
    "    'automotive_qsort1',\n",
    "    'automotive_susan_c',\n",
    "    'automotive_susan_e',\n",
    "    'automotive_susan_s',\n",
    "    'bzip2d',\n",
    "    'bzip2e',\n",
    "    'consumer_jpeg_c',\n",
    "    'consumer_jpeg_d',\n",
    "    'consumer_lame',\n",
    "    'consumer_tiff2bw',\n",
    "    'consumer_tiff2rgba',\n",
    "    'consumer_tiffdither',\n",
    "    'consumer_tiffmedian',\n",
    "    'network_dijkstra',\n",
    "    'network_patricia',\n",
    "    'office_stringsearch1',\n",
    "    'security_blowfish_d',\n",
    "    'security_blowfish_e',\n",
    "    'security_rijndael_d',\n",
    "    'security_rijndael_e',\n",
    "    'security_sha',\n",
    "    'telecom_adpcm_c',\n",
    "    'telecom_adpcm_d',\n",
    "    'telecom_CRC32',\n",
    "]"
   ]
  },
  {
   "cell_type": "code",
   "execution_count": null,
   "id": "87287f64",
   "metadata": {},
   "outputs": [],
   "source": [
    "df\\\n",
    "    [df.set == 'cBench']\\\n",
    "    [~df.file.str.contains('a.out')]\\\n",
    "    [df.file.isin(mlgoperf_cbench_files)]\\\n",
    "    .groupby(['file', 'agent'])\\\n",
    "    [['mean_runtime', 'variance']]\\\n",
    "    .last()\\\n",
    "    .apply(lambda x: round(x, 4))\\\n",
    "    .to_latex()"
   ]
  },
  {
   "cell_type": "code",
   "execution_count": null,
   "id": "9dc03e44",
   "metadata": {},
   "outputs": [],
   "source": []
  }
 ],
 "metadata": {
  "kernelspec": {
   "display_name": "Python 3 (ipykernel)",
   "language": "python",
   "name": "python3"
  },
  "language_info": {
   "codemirror_mode": {
    "name": "ipython",
    "version": 3
   },
   "file_extension": ".py",
   "mimetype": "text/x-python",
   "name": "python",
   "nbconvert_exporter": "python",
   "pygments_lexer": "ipython3",
   "version": "3.10.6"
  }
 },
 "nbformat": 4,
 "nbformat_minor": 5
}
